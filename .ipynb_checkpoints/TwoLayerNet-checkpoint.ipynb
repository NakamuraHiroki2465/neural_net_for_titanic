{
 "cells": [
  {
   "cell_type": "code",
   "execution_count": 1,
   "metadata": {},
   "outputs": [],
   "source": [
    "import numpy as np\n",
    "import matplotlib.pyplot as plt"
   ]
  },
  {
   "cell_type": "code",
   "execution_count": 18,
   "metadata": {},
   "outputs": [],
   "source": []
  },
  {
   "cell_type": "code",
   "execution_count": 16,
   "metadata": {},
   "outputs": [],
   "source": [
    "#ReLUレイヤークラスの実装\n",
    "class ReLU:\n",
    "    def __init__(self):\n",
    "        self.x = None\n",
    "        self.dx = None\n",
    "        \n",
    "    def forward(self,x):\n",
    "        self.x = x\n",
    "        return np.maximum(0,x)\n",
    "    \n",
    "    def backward(self,dout):\n",
    "        self.dx = np.maximum(0,dout)\n",
    "        return self.dx"
   ]
  },
  {
   "cell_type": "code",
   "execution_count": 17,
   "metadata": {},
   "outputs": [],
   "source": [
    "#ネットワークのクラスを作成\n",
    "\n",
    "class TwoLayerNet:\n",
    "    def __init__(self,x):\n",
    "        self.params['x'] = x\n",
    "        self.params['W1'] = np.random.randn(1,x.shape[0])\n",
    "        self.params['b1'] = np.random.randn(1,x.shape[0])\n",
    "        self.params['W2'] = np.random.randn(1,x.shape[0])\n",
    "        self.params['b2'] = np.random.randn(1,x.shape[0])\n",
    "        \n",
    "        self.layers = OrderDict()\n",
    "        self.layers['Affine1'] = Affine(W1,b1)\n",
    "        self.layers['ReLu1'] = ReLU()\n",
    "        self.layers['Affine2'] = Affine(W2,b2)\n",
    "        self.layers['ReLu2'] = ReLU()\n",
    "        self.lastLayer = SoftMaxWithLoss()\n",
    "        \n",
    "    #予測    \n",
    "    def forward(self):\n",
    "        \n",
    "        return z2\n",
    "        "
   ]
  },
  {
   "cell_type": "code",
   "execution_count": 12,
   "metadata": {},
   "outputs": [],
   "source": [
    "#softmax関数の実装"
   ]
  },
  {
   "cell_type": "code",
   "execution_count": 13,
   "metadata": {},
   "outputs": [],
   "source": [
    "#cross_entrppy_errorの実装"
   ]
  },
  {
   "cell_type": "code",
   "execution_count": 14,
   "metadata": {},
   "outputs": [],
   "source": [
    "#softmaxWithLossの実装\n",
    "class SoftMaxWithLoss():\n",
    "    def __init__(self):\n",
    "        self.y = None\n",
    "        self.loss = None\n",
    "        self.t = None\n",
    "        self.dx = None\n",
    "        self.db = None\n",
    "        \n",
    "    #予測    \n",
    "    def predict(self,x):\n",
    "        y = np.exp(x) / (np.sum(np.exp(x),axis = 1))\n",
    "        self.y = y\n",
    "        return y\n",
    "    #\n",
    "    def loss(self,x,t):\n",
    "        loss = -1 * np.sum(x)\n",
    "        "
   ]
  },
  {
   "cell_type": "code",
   "execution_count": null,
   "metadata": {},
   "outputs": [],
   "source": []
  }
 ],
 "metadata": {
  "kernelspec": {
   "display_name": "Python 3",
   "language": "python",
   "name": "python3"
  },
  "language_info": {
   "codemirror_mode": {
    "name": "ipython",
    "version": 3
   },
   "file_extension": ".py",
   "mimetype": "text/x-python",
   "name": "python",
   "nbconvert_exporter": "python",
   "pygments_lexer": "ipython3",
   "version": "3.6.5"
  }
 },
 "nbformat": 4,
 "nbformat_minor": 2
}

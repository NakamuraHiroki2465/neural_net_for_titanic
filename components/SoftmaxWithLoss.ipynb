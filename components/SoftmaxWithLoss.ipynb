{
 "cells": [
  {
   "cell_type": "code",
   "execution_count": 2,
   "metadata": {},
   "outputs": [],
   "source": [
    "import numpy as np"
   ]
  },
  {
   "cell_type": "code",
   "execution_count": 11,
   "metadata": {},
   "outputs": [
    {
     "name": "stdout",
     "output_type": "stream",
     "text": [
      "[0.197695   0.07272793 0.02956897 0.24146522 0.08037679 0.02956897\n",
      " 0.24146522 0.08037679 0.02675511]\n"
     ]
    }
   ],
   "source": [
    "#ソフトマックス関数の実装\n",
    "def softmax(t):\n",
    "    exp_t = np.exp(t)\n",
    "    y = exp_t / np.sum(exp_t)\n",
    "    return y"
   ]
  },
  {
   "cell_type": "code",
   "execution_count": null,
   "metadata": {},
   "outputs": [],
   "source": [
    "def cross_entropy_error(y,t):\n",
    "    delta = 1e-7\n",
    "    return -np.sum(t*np.log(y+delta))"
   ]
  },
  {
   "cell_type": "code",
   "execution_count": 12,
   "metadata": {},
   "outputs": [],
   "source": [
    "#ソフトマックス関数と交差エントロピー誤差の二層のモデル\n",
    "#学習時の誤差逆伝播時に必要\n",
    "class SofmaxWithLoss:\n",
    "    \n",
    "    def __init__(self):\n",
    "        self.t = None\n",
    "        self.y = None\n",
    "        self.loss = None\n",
    "        \n",
    "    def forward(self,x,t):\n",
    "        self.t =t\n",
    "        self.y = softmax(t)\n",
    "        self.loss = cross_entropy_error(self.y,self.t)\n",
    "        \n",
    "        return self.loss\n",
    "    \n",
    "    def backward(self,dout = 1):\n",
    "        dout = 1\n",
    "        #クロスエントロピー誤差は配列の値から１つの値を算出するため、その誤差の逆伝播は配列の値で割る事で１つ１つの誤差を逆伝播できる\n",
    "        batch_size = self.t.shape[0]\n",
    "        return (self.t - self.y) / batch_size\n",
    "        "
   ]
  },
  {
   "cell_type": "code",
   "execution_count": null,
   "metadata": {},
   "outputs": [],
   "source": []
  }
 ],
 "metadata": {
  "kernelspec": {
   "display_name": "Python 3",
   "language": "python",
   "name": "python3"
  },
  "language_info": {
   "codemirror_mode": {
    "name": "ipython",
    "version": 3
   },
   "file_extension": ".py",
   "mimetype": "text/x-python",
   "name": "python",
   "nbconvert_exporter": "python",
   "pygments_lexer": "ipython3",
   "version": "3.6.5"
  }
 },
 "nbformat": 4,
 "nbformat_minor": 2
}
